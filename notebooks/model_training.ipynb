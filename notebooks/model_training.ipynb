{
 "cells": [
  {
   "cell_type": "code",
   "execution_count": 27,
   "metadata": {},
   "outputs": [
    {
     "name": "stdout",
     "output_type": "stream",
     "text": [
      "  % Total    % Received % Xferd  Average Speed   Time    Time     Time  Current\n",
      "                                 Dload  Upload   Total   Spent    Left  Speed\n",
      "100  955k  100  955k    0     0   451k      0  0:00:02  0:00:02 --:--:--  453k\n"
     ]
    }
   ],
   "source": [
    "# Download and extract dataset\n",
    "!curl https://files.grouplens.org/datasets/movielens/ml-latest-small.zip -o ml-latest-small.zip\n",
    "\n",
    "import zipfile\n",
    "with zipfile.ZipFile('ml-latest-small.zip', 'r') as zip_ref:\n",
    "    zip_ref.extractall('data')"
   ]
  },
  {
   "cell_type": "code",
   "execution_count": 28,
   "metadata": {},
   "outputs": [],
   "source": [
    "import pandas as pd\n",
    "import sys\n",
    "import os\n",
    "\n",
    "# Add project root directory to Python path\n",
    "sys.path.append(os.path.abspath(os.path.join(os.getcwd(), '..')))"
   ]
  },
  {
   "cell_type": "code",
   "execution_count": 35,
   "metadata": {},
   "outputs": [
    {
     "data": {
      "text/plain": [
       "<module 'src.utils.evaluation' from '/Users/abowkis/Documents/movie_recommender/movie-recs/src/utils/evaluation.py'>"
      ]
     },
     "execution_count": 35,
     "metadata": {},
     "output_type": "execute_result"
    }
   ],
   "source": [
    "# Normal imports for functions\n",
    "from src.data.preprocessing import preprocess_data\n",
    "from src.models.neural_cf import MovieRecommender\n",
    "from src.utils.evaluation import calculate_metrics\n",
    "\n",
    "# Import the modules for reloading\n",
    "import src.data.preprocessing as preprocess_data_module\n",
    "import src.models.neural_cf as MovieRecommender_module\n",
    "import src.utils.evaluation as calculate_metrics_module\n",
    "\n",
    "# Reload the modules after making changes to them\n",
    "import importlib\n",
    "importlib.reload(preprocess_data_module)\n",
    "importlib.reload(MovieRecommender_module)\n",
    "importlib.reload(calculate_metrics_module)\n",
    "\n"
   ]
  },
  {
   "cell_type": "code",
   "execution_count": 30,
   "metadata": {},
   "outputs": [],
   "source": [
    "# Load and preprocess data\n",
    "processed_data = preprocess_data('data/ml-latest-small/ratings.csv', \n",
    "                                         'data/ml-latest-small/movies.csv', 0.1)"
   ]
  },
  {
   "cell_type": "code",
   "execution_count": 31,
   "metadata": {},
   "outputs": [
    {
     "name": "stdout",
     "output_type": "stream",
     "text": [
      "     userId  movieId  rating   timestamp  scaled_rating  \\\n",
      "114     104     3054     5.0  1446573558       1.000000   \n",
      "319     554       85     3.0  1491094544       0.555556   \n",
      "596     578     2810     4.5  1529899650       0.888889   \n",
      "105     217     1597     3.5  1230061175       0.666667   \n",
      "\n",
      "                               title    genres  \n",
      "114  Pokémon: The First Movie (1998)   Fantasy  \n",
      "319        Angels and Insects (1995)   Romance  \n",
      "596              Perfect Blue (1997)   Mystery  \n",
      "105         Conspiracy Theory (1997)  Thriller  \n"
     ]
    }
   ],
   "source": [
    "# Extract user IDs, movie IDs and ratings for training and testing data split\n",
    "print(processed_data['train_data'].head(4))\n",
    "user_ids_train = processed_data['train_data']['userId'].values\n",
    "movie_ids_train = processed_data['train_data']['movieId'].values\n",
    "ratings_train = processed_data['train_data']['scaled_rating'].values\n",
    "user_ids_test = processed_data['test_data']['userId'].values\n",
    "movie_ids_test = processed_data['test_data']['movieId'].values\n",
    "ratings_test = processed_data['test_data']['scaled_rating'].values\n",
    "\n",
    "# Make training input and target\n",
    "X_train = (user_ids_train, movie_ids_train)  # Tuple of user and movie IDs to pass to model\n",
    "y_train = ratings_train  # Target ratings (scaled)"
   ]
  },
  {
   "cell_type": "code",
   "execution_count": 32,
   "metadata": {},
   "outputs": [
    {
     "name": "stdout",
     "output_type": "stream",
     "text": [
      "Epoch 1/100\n",
      "\u001b[1m21/21\u001b[0m \u001b[32m━━━━━━━━━━━━━━━━━━━━\u001b[0m\u001b[37m\u001b[0m \u001b[1m6s\u001b[0m 91ms/step - loss: 0.0757 - mae: 0.2307 - mse: 0.0757 - val_loss: 0.0612 - val_mae: 0.2000 - val_mse: 0.0612\n",
      "Epoch 2/100\n",
      "\u001b[1m21/21\u001b[0m \u001b[32m━━━━━━━━━━━━━━━━━━━━\u001b[0m\u001b[37m\u001b[0m \u001b[1m0s\u001b[0m 18ms/step - loss: 0.0504 - mae: 0.1855 - mse: 0.0504 - val_loss: 0.0446 - val_mae: 0.1681 - val_mse: 0.0446\n",
      "Epoch 3/100\n",
      "\u001b[1m21/21\u001b[0m \u001b[32m━━━━━━━━━━━━━━━━━━━━\u001b[0m\u001b[37m\u001b[0m \u001b[1m1s\u001b[0m 23ms/step - loss: 0.0356 - mae: 0.1485 - mse: 0.0356 - val_loss: 0.0362 - val_mae: 0.1437 - val_mse: 0.0362\n",
      "Epoch 4/100\n",
      "\u001b[1m21/21\u001b[0m \u001b[32m━━━━━━━━━━━━━━━━━━━━\u001b[0m\u001b[37m\u001b[0m \u001b[1m0s\u001b[0m 12ms/step - loss: 0.0243 - mae: 0.1184 - mse: 0.0243 - val_loss: 0.0318 - val_mae: 0.1322 - val_mse: 0.0318\n",
      "Epoch 5/100\n",
      "\u001b[1m21/21\u001b[0m \u001b[32m━━━━━━━━━━━━━━━━━━━━\u001b[0m\u001b[37m\u001b[0m \u001b[1m0s\u001b[0m 12ms/step - loss: 0.0199 - mae: 0.1039 - mse: 0.0199 - val_loss: 0.0293 - val_mae: 0.1258 - val_mse: 0.0293\n",
      "Epoch 6/100\n",
      "\u001b[1m21/21\u001b[0m \u001b[32m━━━━━━━━━━━━━━━━━━━━\u001b[0m\u001b[37m\u001b[0m \u001b[1m0s\u001b[0m 13ms/step - loss: 0.0163 - mae: 0.0916 - mse: 0.0163 - val_loss: 0.0273 - val_mae: 0.1184 - val_mse: 0.0273\n",
      "Epoch 7/100\n",
      "\u001b[1m21/21\u001b[0m \u001b[32m━━━━━━━━━━━━━━━━━━━━\u001b[0m\u001b[37m\u001b[0m \u001b[1m0s\u001b[0m 15ms/step - loss: 0.0129 - mae: 0.0808 - mse: 0.0129 - val_loss: 0.0264 - val_mae: 0.1142 - val_mse: 0.0264\n",
      "Epoch 8/100\n",
      "\u001b[1m21/21\u001b[0m \u001b[32m━━━━━━━━━━━━━━━━━━━━\u001b[0m\u001b[37m\u001b[0m \u001b[1m0s\u001b[0m 12ms/step - loss: 0.0110 - mae: 0.0733 - mse: 0.0110 - val_loss: 0.0250 - val_mae: 0.1092 - val_mse: 0.0250\n",
      "Epoch 9/100\n",
      "\u001b[1m21/21\u001b[0m \u001b[32m━━━━━━━━━━━━━━━━━━━━\u001b[0m\u001b[37m\u001b[0m \u001b[1m0s\u001b[0m 20ms/step - loss: 0.0108 - mae: 0.0723 - mse: 0.0108 - val_loss: 0.0240 - val_mae: 0.1059 - val_mse: 0.0240\n",
      "Epoch 10/100\n",
      "\u001b[1m21/21\u001b[0m \u001b[32m━━━━━━━━━━━━━━━━━━━━\u001b[0m\u001b[37m\u001b[0m \u001b[1m0s\u001b[0m 12ms/step - loss: 0.0095 - mae: 0.0669 - mse: 0.0095 - val_loss: 0.0233 - val_mae: 0.1026 - val_mse: 0.0233\n",
      "Epoch 11/100\n",
      "\u001b[1m21/21\u001b[0m \u001b[32m━━━━━━━━━━━━━━━━━━━━\u001b[0m\u001b[37m\u001b[0m \u001b[1m0s\u001b[0m 13ms/step - loss: 0.0088 - mae: 0.0630 - mse: 0.0088 - val_loss: 0.0240 - val_mae: 0.1019 - val_mse: 0.0240\n",
      "Epoch 12/100\n",
      "\u001b[1m21/21\u001b[0m \u001b[32m━━━━━━━━━━━━━━━━━━━━\u001b[0m\u001b[37m\u001b[0m \u001b[1m0s\u001b[0m 12ms/step - loss: 0.0079 - mae: 0.0622 - mse: 0.0079 - val_loss: 0.0229 - val_mae: 0.0980 - val_mse: 0.0229\n",
      "Epoch 13/100\n",
      "\u001b[1m21/21\u001b[0m \u001b[32m━━━━━━━━━━━━━━━━━━━━\u001b[0m\u001b[37m\u001b[0m \u001b[1m0s\u001b[0m 12ms/step - loss: 0.0072 - mae: 0.0570 - mse: 0.0072 - val_loss: 0.0233 - val_mae: 0.0988 - val_mse: 0.0233\n",
      "Epoch 14/100\n",
      "\u001b[1m21/21\u001b[0m \u001b[32m━━━━━━━━━━━━━━━━━━━━\u001b[0m\u001b[37m\u001b[0m \u001b[1m0s\u001b[0m 13ms/step - loss: 0.0070 - mae: 0.0552 - mse: 0.0070 - val_loss: 0.0233 - val_mae: 0.0972 - val_mse: 0.0233\n",
      "Epoch 15/100\n",
      "\u001b[1m21/21\u001b[0m \u001b[32m━━━━━━━━━━━━━━━━━━━━\u001b[0m\u001b[37m\u001b[0m \u001b[1m0s\u001b[0m 12ms/step - loss: 0.0068 - mae: 0.0557 - mse: 0.0068 - val_loss: 0.0233 - val_mae: 0.0965 - val_mse: 0.0233\n",
      "Epoch 15: early stopping\n",
      "Restoring model weights from the end of the best epoch: 12.\n"
     ]
    }
   ],
   "source": [
    "# Initialize model\n",
    "recommender = MovieRecommender(processed_data['num_users'], processed_data['num_movies'])\n",
    "# Compile model\n",
    "recommender.compile_model(learning_rate=0.001)\n",
    "# Train model\n",
    "history = recommender.train(X_train=X_train, y_train=y_train, validation_split=0.2, batch_size=64, epochs=100, patience=3)"
   ]
  },
  {
   "cell_type": "code",
   "execution_count": 33,
   "metadata": {},
   "outputs": [
    {
     "name": "stdout",
     "output_type": "stream",
     "text": [
      "Test metrics: {'loss': 0.010240898467600346, 'compile_metrics': 0.06360569596290588}\n",
      "Predicted ratings: [[0.15407795]\n",
      " [0.7414754 ]\n",
      " [0.52134883]\n",
      " [0.7243876 ]\n",
      " [0.83748215]]\n"
     ]
    }
   ],
   "source": [
    "# Evaluate model\n",
    "brief_metrics = recommender.evaluate(X_train, y_train)\n",
    "print(\"Test metrics:\", brief_metrics)\n",
    "# Make predictions on test set\n",
    "predicted_ratings = recommender.predict(user_ids_test, movie_ids_test)\n",
    "print(\"Predicted ratings:\", predicted_ratings[:5])"
   ]
  },
  {
   "cell_type": "code",
   "execution_count": 36,
   "metadata": {},
   "outputs": [
    {
     "name": "stdout",
     "output_type": "stream",
     "text": [
      "Full metrics: {'debug! rmse': 0.1568717024227837, 'mae': 0.10487136238200427, 'precision@k': 0.12835051546391754, 'recall@k': 0.7474226804123711}\n"
     ]
    }
   ],
   "source": [
    "# Create dataframe with actual and predicted ratings for test set to pass to calculate_metrics function\n",
    "df_predictions = pd.DataFrame({\n",
    "    'userId': user_ids_test,        \n",
    "    'movieId': movie_ids_test,      \n",
    "    'actual_rating': ratings_test,  \n",
    "    'predicted_rating': predicted_ratings.flatten()\n",
    "})\n",
    "full_metrics = calculate_metrics(df_predictions)\n",
    "print(\"Full metrics:\", full_metrics)"
   ]
  },
  {
   "cell_type": "code",
   "execution_count": null,
   "metadata": {},
   "outputs": [],
   "source": []
  }
 ],
 "metadata": {
  "kernelspec": {
   "display_name": "movie_rec",
   "language": "python",
   "name": "python3"
  },
  "language_info": {
   "codemirror_mode": {
    "name": "ipython",
    "version": 3
   },
   "file_extension": ".py",
   "mimetype": "text/x-python",
   "name": "python",
   "nbconvert_exporter": "python",
   "pygments_lexer": "ipython3",
   "version": "3.9.21"
  }
 },
 "nbformat": 4,
 "nbformat_minor": 2
}
