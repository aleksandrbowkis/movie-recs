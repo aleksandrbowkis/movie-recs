{
 "cells": [
  {
   "cell_type": "code",
   "execution_count": 1,
   "metadata": {},
   "outputs": [
    {
     "name": "stdout",
     "output_type": "stream",
     "text": [
      "  % Total    % Received % Xferd  Average Speed   Time    Time     Time  Current\n",
      "                                 Dload  Upload   Total   Spent    Left  Speed\n",
      "100  955k  100  955k    0     0   885k      0  0:00:01  0:00:01 --:--:--  895k\n"
     ]
    }
   ],
   "source": [
    "# Download and extract dataset\n",
    "!curl https://files.grouplens.org/datasets/movielens/ml-latest-small.zip -o ml-latest-small.zip\n",
    "\n",
    "import zipfile\n",
    "with zipfile.ZipFile('ml-latest-small.zip', 'r') as zip_ref:\n",
    "    zip_ref.extractall('data')"
   ]
  },
  {
   "cell_type": "code",
   "execution_count": 2,
   "metadata": {},
   "outputs": [],
   "source": [
    "import pandas as pd\n",
    "import sys\n",
    "import os\n",
    "\n",
    "# Add project root directory to Python path\n",
    "sys.path.append(os.path.abspath(os.path.join(os.getcwd(), '..')))"
   ]
  },
  {
   "cell_type": "code",
   "execution_count": 9,
   "metadata": {},
   "outputs": [
    {
     "data": {
      "text/plain": [
       "<module 'src.utils.evaluation' from '/Users/abowkis/Documents/movie_recommender/movie-recs/src/utils/evaluation.py'>"
      ]
     },
     "execution_count": 9,
     "metadata": {},
     "output_type": "execute_result"
    }
   ],
   "source": [
    "# Normal imports for functions\n",
    "from src.data.preprocessing import preprocess_data\n",
    "from src.models.neural_cf import MovieRecommender\n",
    "from src.utils.evaluation import calculate_metrics\n",
    "\n",
    "# Import the modules for reloading\n",
    "import src.data.preprocessing as preprocess_data_module\n",
    "import src.models.neural_cf as MovieRecommender_module\n",
    "import src.utils.evaluation as calculate_metrics_module\n",
    "\n",
    "# Reload the modules after making changes to them\n",
    "import importlib\n",
    "importlib.reload(preprocess_data_module)\n",
    "importlib.reload(MovieRecommender_module)\n",
    "importlib.reload(calculate_metrics_module)\n",
    "\n"
   ]
  },
  {
   "cell_type": "code",
   "execution_count": 4,
   "metadata": {},
   "outputs": [
    {
     "name": "stdout",
     "output_type": "stream",
     "text": [
      "Rows: 116896, Columns: 7\n"
     ]
    }
   ],
   "source": [
    "# Load and preprocess data\n",
    "processed_data = preprocess_data('data/ml-latest-small/ratings.csv', \n",
    "                                         'data/ml-latest-small/movies.csv', 1)\n",
    "# Get the number of rows and columns\n",
    "print(f\"Rows: {processed_data['train_data'].shape[0]}, Columns: {processed_data['train_data'].shape[1]}\")"
   ]
  },
  {
   "cell_type": "code",
   "execution_count": 5,
   "metadata": {},
   "outputs": [
    {
     "name": "stdout",
     "output_type": "stream",
     "text": [
      "       userId  movieId  rating   timestamp  scaled_rating  \\\n",
      "57429     578     1208     5.0   958882188       1.000000   \n",
      "19549      61     6058     4.0  1521490334       0.777778   \n",
      "38805     602     2642     5.0   963176106       1.000000   \n",
      "27956      83      891     4.0   860397394       0.777778   \n",
      "\n",
      "                                                   title    genres  \n",
      "57429                              Apocalypse Now (1979)       War  \n",
      "19549                         Final Destination 2 (2003)    Horror  \n",
      "38805                                Superman III (1983)    Action  \n",
      "27956  Halloween: The Curse of Michael Myers (Hallowe...  Thriller  \n"
     ]
    }
   ],
   "source": [
    "# Extract user IDs, movie IDs and ratings for training and testing data split\n",
    "print(processed_data['train_data'].head(4))\n",
    "user_ids_train = processed_data['train_data']['userId'].values\n",
    "movie_ids_train = processed_data['train_data']['movieId'].values\n",
    "ratings_train = processed_data['train_data']['scaled_rating'].values\n",
    "user_ids_test = processed_data['test_data']['userId'].values\n",
    "movie_ids_test = processed_data['test_data']['movieId'].values\n",
    "ratings_test = processed_data['test_data']['scaled_rating'].values\n",
    "\n",
    "# Make training input and target\n",
    "X_train = (user_ids_train, movie_ids_train)  # Tuple of user and movie IDs to pass to model\n",
    "y_train = ratings_train  # Target ratings (scaled)"
   ]
  },
  {
   "cell_type": "code",
   "execution_count": 6,
   "metadata": {},
   "outputs": [
    {
     "name": "stdout",
     "output_type": "stream",
     "text": [
      "Epoch 1/100\n",
      "\u001b[1m1462/1462\u001b[0m \u001b[32m━━━━━━━━━━━━━━━━━━━━\u001b[0m\u001b[37m\u001b[0m \u001b[1m15s\u001b[0m 9ms/step - loss: 0.0443 - mae: 0.1640 - mse: 0.0443 - val_loss: 0.0341 - val_mae: 0.1418 - val_mse: 0.0341\n",
      "Epoch 2/100\n",
      "\u001b[1m1462/1462\u001b[0m \u001b[32m━━━━━━━━━━━━━━━━━━━━\u001b[0m\u001b[37m\u001b[0m \u001b[1m10s\u001b[0m 7ms/step - loss: 0.0319 - mae: 0.1363 - mse: 0.0319 - val_loss: 0.0321 - val_mae: 0.1366 - val_mse: 0.0321\n",
      "Epoch 3/100\n",
      "\u001b[1m1462/1462\u001b[0m \u001b[32m━━━━━━━━━━━━━━━━━━━━\u001b[0m\u001b[37m\u001b[0m \u001b[1m13s\u001b[0m 9ms/step - loss: 0.0291 - mae: 0.1293 - mse: 0.0291 - val_loss: 0.0308 - val_mae: 0.1329 - val_mse: 0.0308\n",
      "Epoch 4/100\n",
      "\u001b[1m1462/1462\u001b[0m \u001b[32m━━━━━━━━━━━━━━━━━━━━\u001b[0m\u001b[37m\u001b[0m \u001b[1m11s\u001b[0m 7ms/step - loss: 0.0258 - mae: 0.1216 - mse: 0.0258 - val_loss: 0.0292 - val_mae: 0.1289 - val_mse: 0.0292\n",
      "Epoch 5/100\n",
      "\u001b[1m1462/1462\u001b[0m \u001b[32m━━━━━━━━━━━━━━━━━━━━\u001b[0m\u001b[37m\u001b[0m \u001b[1m11s\u001b[0m 8ms/step - loss: 0.0229 - mae: 0.1140 - mse: 0.0229 - val_loss: 0.0278 - val_mae: 0.1248 - val_mse: 0.0278\n",
      "Epoch 6/100\n",
      "\u001b[1m1462/1462\u001b[0m \u001b[32m━━━━━━━━━━━━━━━━━━━━\u001b[0m\u001b[37m\u001b[0m \u001b[1m10s\u001b[0m 7ms/step - loss: 0.0203 - mae: 0.1069 - mse: 0.0203 - val_loss: 0.0267 - val_mae: 0.1206 - val_mse: 0.0267\n",
      "Epoch 7/100\n",
      "\u001b[1m1462/1462\u001b[0m \u001b[32m━━━━━━━━━━━━━━━━━━━━\u001b[0m\u001b[37m\u001b[0m \u001b[1m9s\u001b[0m 6ms/step - loss: 0.0183 - mae: 0.1013 - mse: 0.0183 - val_loss: 0.0258 - val_mae: 0.1181 - val_mse: 0.0258\n",
      "Epoch 8/100\n",
      "\u001b[1m1462/1462\u001b[0m \u001b[32m━━━━━━━━━━━━━━━━━━━━\u001b[0m\u001b[37m\u001b[0m \u001b[1m13s\u001b[0m 9ms/step - loss: 0.0165 - mae: 0.0962 - mse: 0.0165 - val_loss: 0.0248 - val_mae: 0.1146 - val_mse: 0.0248\n",
      "Epoch 9/100\n",
      "\u001b[1m1462/1462\u001b[0m \u001b[32m━━━━━━━━━━━━━━━━━━━━\u001b[0m\u001b[37m\u001b[0m \u001b[1m11s\u001b[0m 8ms/step - loss: 0.0151 - mae: 0.0921 - mse: 0.0151 - val_loss: 0.0242 - val_mae: 0.1120 - val_mse: 0.0242\n",
      "Epoch 10/100\n",
      "\u001b[1m1462/1462\u001b[0m \u001b[32m━━━━━━━━━━━━━━━━━━━━\u001b[0m\u001b[37m\u001b[0m \u001b[1m13s\u001b[0m 9ms/step - loss: 0.0141 - mae: 0.0894 - mse: 0.0141 - val_loss: 0.0235 - val_mae: 0.1099 - val_mse: 0.0235\n",
      "Epoch 11/100\n",
      "\u001b[1m1462/1462\u001b[0m \u001b[32m━━━━━━━━━━━━━━━━━━━━\u001b[0m\u001b[37m\u001b[0m \u001b[1m19s\u001b[0m 7ms/step - loss: 0.0130 - mae: 0.0856 - mse: 0.0130 - val_loss: 0.0230 - val_mae: 0.1079 - val_mse: 0.0230\n",
      "Epoch 12/100\n",
      "\u001b[1m1462/1462\u001b[0m \u001b[32m━━━━━━━━━━━━━━━━━━━━\u001b[0m\u001b[37m\u001b[0m \u001b[1m10s\u001b[0m 7ms/step - loss: 0.0124 - mae: 0.0837 - mse: 0.0124 - val_loss: 0.0227 - val_mae: 0.1066 - val_mse: 0.0227\n",
      "Epoch 13/100\n",
      "\u001b[1m1462/1462\u001b[0m \u001b[32m━━━━━━━━━━━━━━━━━━━━\u001b[0m\u001b[37m\u001b[0m \u001b[1m11s\u001b[0m 7ms/step - loss: 0.0118 - mae: 0.0816 - mse: 0.0118 - val_loss: 0.0221 - val_mae: 0.1047 - val_mse: 0.0221\n",
      "Epoch 14/100\n",
      "\u001b[1m1462/1462\u001b[0m \u001b[32m━━━━━━━━━━━━━━━━━━━━\u001b[0m\u001b[37m\u001b[0m \u001b[1m13s\u001b[0m 9ms/step - loss: 0.0112 - mae: 0.0795 - mse: 0.0112 - val_loss: 0.0217 - val_mae: 0.1034 - val_mse: 0.0217\n",
      "Epoch 15/100\n",
      "\u001b[1m1462/1462\u001b[0m \u001b[32m━━━━━━━━━━━━━━━━━━━━\u001b[0m\u001b[37m\u001b[0m \u001b[1m15s\u001b[0m 10ms/step - loss: 0.0108 - mae: 0.0783 - mse: 0.0108 - val_loss: 0.0213 - val_mae: 0.1017 - val_mse: 0.0213\n",
      "Epoch 16/100\n",
      "\u001b[1m1462/1462\u001b[0m \u001b[32m━━━━━━━━━━━━━━━━━━━━\u001b[0m\u001b[37m\u001b[0m \u001b[1m13s\u001b[0m 9ms/step - loss: 0.0103 - mae: 0.0764 - mse: 0.0103 - val_loss: 0.0212 - val_mae: 0.1013 - val_mse: 0.0212\n",
      "Epoch 17/100\n",
      "\u001b[1m1462/1462\u001b[0m \u001b[32m━━━━━━━━━━━━━━━━━━━━\u001b[0m\u001b[37m\u001b[0m \u001b[1m9s\u001b[0m 6ms/step - loss: 0.0100 - mae: 0.0755 - mse: 0.0100 - val_loss: 0.0208 - val_mae: 0.1002 - val_mse: 0.0208\n",
      "Epoch 18/100\n",
      "\u001b[1m1462/1462\u001b[0m \u001b[32m━━━━━━━━━━━━━━━━━━━━\u001b[0m\u001b[37m\u001b[0m \u001b[1m9s\u001b[0m 6ms/step - loss: 0.0097 - mae: 0.0745 - mse: 0.0097 - val_loss: 0.0206 - val_mae: 0.0992 - val_mse: 0.0206\n",
      "Epoch 19/100\n",
      "\u001b[1m1462/1462\u001b[0m \u001b[32m━━━━━━━━━━━━━━━━━━━━\u001b[0m\u001b[37m\u001b[0m \u001b[1m9s\u001b[0m 6ms/step - loss: 0.0094 - mae: 0.0732 - mse: 0.0094 - val_loss: 0.0206 - val_mae: 0.0985 - val_mse: 0.0206\n",
      "Epoch 20/100\n",
      "\u001b[1m1462/1462\u001b[0m \u001b[32m━━━━━━━━━━━━━━━━━━━━\u001b[0m\u001b[37m\u001b[0m \u001b[1m12s\u001b[0m 8ms/step - loss: 0.0091 - mae: 0.0721 - mse: 0.0091 - val_loss: 0.0201 - val_mae: 0.0971 - val_mse: 0.0201\n",
      "Epoch 21/100\n",
      "\u001b[1m1462/1462\u001b[0m \u001b[32m━━━━━━━━━━━━━━━━━━━━\u001b[0m\u001b[37m\u001b[0m \u001b[1m11s\u001b[0m 8ms/step - loss: 0.0091 - mae: 0.0717 - mse: 0.0091 - val_loss: 0.0200 - val_mae: 0.0964 - val_mse: 0.0200\n",
      "Epoch 22/100\n",
      "\u001b[1m1462/1462\u001b[0m \u001b[32m━━━━━━━━━━━━━━━━━━━━\u001b[0m\u001b[37m\u001b[0m \u001b[1m10s\u001b[0m 7ms/step - loss: 0.0089 - mae: 0.0708 - mse: 0.0089 - val_loss: 0.0198 - val_mae: 0.0959 - val_mse: 0.0198\n",
      "Epoch 23/100\n",
      "\u001b[1m1462/1462\u001b[0m \u001b[32m━━━━━━━━━━━━━━━━━━━━\u001b[0m\u001b[37m\u001b[0m \u001b[1m11s\u001b[0m 7ms/step - loss: 0.0086 - mae: 0.0698 - mse: 0.0086 - val_loss: 0.0196 - val_mae: 0.0950 - val_mse: 0.0196\n",
      "Epoch 24/100\n",
      "\u001b[1m1462/1462\u001b[0m \u001b[32m━━━━━━━━━━━━━━━━━━━━\u001b[0m\u001b[37m\u001b[0m \u001b[1m15s\u001b[0m 10ms/step - loss: 0.0085 - mae: 0.0693 - mse: 0.0085 - val_loss: 0.0196 - val_mae: 0.0947 - val_mse: 0.0196\n",
      "Epoch 25/100\n",
      "\u001b[1m1462/1462\u001b[0m \u001b[32m━━━━━━━━━━━━━━━━━━━━\u001b[0m\u001b[37m\u001b[0m \u001b[1m10s\u001b[0m 7ms/step - loss: 0.0083 - mae: 0.0688 - mse: 0.0083 - val_loss: 0.0196 - val_mae: 0.0945 - val_mse: 0.0196\n",
      "Epoch 26/100\n",
      "\u001b[1m1462/1462\u001b[0m \u001b[32m━━━━━━━━━━━━━━━━━━━━\u001b[0m\u001b[37m\u001b[0m \u001b[1m10s\u001b[0m 7ms/step - loss: 0.0082 - mae: 0.0681 - mse: 0.0082 - val_loss: 0.0192 - val_mae: 0.0932 - val_mse: 0.0192\n",
      "Epoch 27/100\n",
      "\u001b[1m1462/1462\u001b[0m \u001b[32m━━━━━━━━━━━━━━━━━━━━\u001b[0m\u001b[37m\u001b[0m \u001b[1m9s\u001b[0m 6ms/step - loss: 0.0081 - mae: 0.0676 - mse: 0.0081 - val_loss: 0.0192 - val_mae: 0.0930 - val_mse: 0.0192\n",
      "Epoch 28/100\n",
      "\u001b[1m1462/1462\u001b[0m \u001b[32m━━━━━━━━━━━━━━━━━━━━\u001b[0m\u001b[37m\u001b[0m \u001b[1m10s\u001b[0m 6ms/step - loss: 0.0080 - mae: 0.0671 - mse: 0.0080 - val_loss: 0.0192 - val_mae: 0.0927 - val_mse: 0.0192\n",
      "Epoch 29/100\n",
      "\u001b[1m1462/1462\u001b[0m \u001b[32m━━━━━━━━━━━━━━━━━━━━\u001b[0m\u001b[37m\u001b[0m \u001b[1m9s\u001b[0m 6ms/step - loss: 0.0077 - mae: 0.0662 - mse: 0.0077 - val_loss: 0.0190 - val_mae: 0.0919 - val_mse: 0.0190\n",
      "Epoch 30/100\n",
      "\u001b[1m1462/1462\u001b[0m \u001b[32m━━━━━━━━━━━━━━━━━━━━\u001b[0m\u001b[37m\u001b[0m \u001b[1m12s\u001b[0m 8ms/step - loss: 0.0076 - mae: 0.0658 - mse: 0.0076 - val_loss: 0.0188 - val_mae: 0.0914 - val_mse: 0.0188\n",
      "Epoch 31/100\n",
      "\u001b[1m1462/1462\u001b[0m \u001b[32m━━━━━━━━━━━━━━━━━━━━\u001b[0m\u001b[37m\u001b[0m \u001b[1m16s\u001b[0m 11ms/step - loss: 0.0075 - mae: 0.0655 - mse: 0.0075 - val_loss: 0.0187 - val_mae: 0.0910 - val_mse: 0.0187\n",
      "Epoch 32/100\n",
      "\u001b[1m1462/1462\u001b[0m \u001b[32m━━━━━━━━━━━━━━━━━━━━\u001b[0m\u001b[37m\u001b[0m \u001b[1m13s\u001b[0m 9ms/step - loss: 0.0074 - mae: 0.0651 - mse: 0.0074 - val_loss: 0.0187 - val_mae: 0.0906 - val_mse: 0.0187\n",
      "Epoch 33/100\n",
      "\u001b[1m1462/1462\u001b[0m \u001b[32m━━━━━━━━━━━━━━━━━━━━\u001b[0m\u001b[37m\u001b[0m \u001b[1m11s\u001b[0m 8ms/step - loss: 0.0074 - mae: 0.0650 - mse: 0.0074 - val_loss: 0.0185 - val_mae: 0.0900 - val_mse: 0.0185\n",
      "Epoch 34/100\n",
      "\u001b[1m1462/1462\u001b[0m \u001b[32m━━━━━━━━━━━━━━━━━━━━\u001b[0m\u001b[37m\u001b[0m \u001b[1m9s\u001b[0m 6ms/step - loss: 0.0073 - mae: 0.0647 - mse: 0.0073 - val_loss: 0.0185 - val_mae: 0.0898 - val_mse: 0.0185\n",
      "Epoch 35/100\n",
      "\u001b[1m1462/1462\u001b[0m \u001b[32m━━━━━━━━━━━━━━━━━━━━\u001b[0m\u001b[37m\u001b[0m \u001b[1m9s\u001b[0m 6ms/step - loss: 0.0072 - mae: 0.0637 - mse: 0.0072 - val_loss: 0.0185 - val_mae: 0.0897 - val_mse: 0.0185\n",
      "Epoch 36/100\n",
      "\u001b[1m1462/1462\u001b[0m \u001b[32m━━━━━━━━━━━━━━━━━━━━\u001b[0m\u001b[37m\u001b[0m \u001b[1m9s\u001b[0m 6ms/step - loss: 0.0071 - mae: 0.0637 - mse: 0.0071 - val_loss: 0.0183 - val_mae: 0.0893 - val_mse: 0.0183\n",
      "Epoch 37/100\n",
      "\u001b[1m1462/1462\u001b[0m \u001b[32m━━━━━━━━━━━━━━━━━━━━\u001b[0m\u001b[37m\u001b[0m \u001b[1m9s\u001b[0m 6ms/step - loss: 0.0070 - mae: 0.0631 - mse: 0.0070 - val_loss: 0.0183 - val_mae: 0.0887 - val_mse: 0.0183\n",
      "Epoch 38/100\n",
      "\u001b[1m1462/1462\u001b[0m \u001b[32m━━━━━━━━━━━━━━━━━━━━\u001b[0m\u001b[37m\u001b[0m \u001b[1m10s\u001b[0m 7ms/step - loss: 0.0069 - mae: 0.0629 - mse: 0.0069 - val_loss: 0.0182 - val_mae: 0.0886 - val_mse: 0.0182\n",
      "Epoch 39/100\n",
      "\u001b[1m1462/1462\u001b[0m \u001b[32m━━━━━━━━━━━━━━━━━━━━\u001b[0m\u001b[37m\u001b[0m \u001b[1m9s\u001b[0m 6ms/step - loss: 0.0070 - mae: 0.0628 - mse: 0.0070 - val_loss: 0.0180 - val_mae: 0.0878 - val_mse: 0.0180\n",
      "Epoch 40/100\n",
      "\u001b[1m1462/1462\u001b[0m \u001b[32m━━━━━━━━━━━━━━━━━━━━\u001b[0m\u001b[37m\u001b[0m \u001b[1m12s\u001b[0m 8ms/step - loss: 0.0069 - mae: 0.0624 - mse: 0.0069 - val_loss: 0.0181 - val_mae: 0.0882 - val_mse: 0.0181\n",
      "Epoch 41/100\n",
      "\u001b[1m1462/1462\u001b[0m \u001b[32m━━━━━━━━━━━━━━━━━━━━\u001b[0m\u001b[37m\u001b[0m \u001b[1m12s\u001b[0m 8ms/step - loss: 0.0068 - mae: 0.0623 - mse: 0.0068 - val_loss: 0.0180 - val_mae: 0.0877 - val_mse: 0.0180\n",
      "Epoch 42/100\n",
      "\u001b[1m1462/1462\u001b[0m \u001b[32m━━━━━━━━━━━━━━━━━━━━\u001b[0m\u001b[37m\u001b[0m \u001b[1m12s\u001b[0m 8ms/step - loss: 0.0068 - mae: 0.0622 - mse: 0.0068 - val_loss: 0.0179 - val_mae: 0.0872 - val_mse: 0.0179\n",
      "Epoch 43/100\n",
      "\u001b[1m1462/1462\u001b[0m \u001b[32m━━━━━━━━━━━━━━━━━━━━\u001b[0m\u001b[37m\u001b[0m \u001b[1m11s\u001b[0m 8ms/step - loss: 0.0067 - mae: 0.0618 - mse: 0.0067 - val_loss: 0.0180 - val_mae: 0.0873 - val_mse: 0.0180\n",
      "Epoch 44/100\n",
      "\u001b[1m1462/1462\u001b[0m \u001b[32m━━━━━━━━━━━━━━━━━━━━\u001b[0m\u001b[37m\u001b[0m \u001b[1m13s\u001b[0m 9ms/step - loss: 0.0066 - mae: 0.0613 - mse: 0.0066 - val_loss: 0.0178 - val_mae: 0.0863 - val_mse: 0.0178\n",
      "Epoch 45/100\n",
      "\u001b[1m1462/1462\u001b[0m \u001b[32m━━━━━━━━━━━━━━━━━━━━\u001b[0m\u001b[37m\u001b[0m \u001b[1m13s\u001b[0m 9ms/step - loss: 0.0064 - mae: 0.0606 - mse: 0.0064 - val_loss: 0.0179 - val_mae: 0.0869 - val_mse: 0.0179\n",
      "Epoch 46/100\n",
      "\u001b[1m1462/1462\u001b[0m \u001b[32m━━━━━━━━━━━━━━━━━━━━\u001b[0m\u001b[37m\u001b[0m \u001b[1m12s\u001b[0m 8ms/step - loss: 0.0065 - mae: 0.0608 - mse: 0.0065 - val_loss: 0.0177 - val_mae: 0.0861 - val_mse: 0.0177\n",
      "Epoch 47/100\n",
      "\u001b[1m1462/1462\u001b[0m \u001b[32m━━━━━━━━━━━━━━━━━━━━\u001b[0m\u001b[37m\u001b[0m \u001b[1m14s\u001b[0m 9ms/step - loss: 0.0065 - mae: 0.0608 - mse: 0.0065 - val_loss: 0.0177 - val_mae: 0.0860 - val_mse: 0.0177\n",
      "Epoch 48/100\n",
      "\u001b[1m1462/1462\u001b[0m \u001b[32m━━━━━━━━━━━━━━━━━━━━\u001b[0m\u001b[37m\u001b[0m \u001b[1m12s\u001b[0m 8ms/step - loss: 0.0064 - mae: 0.0603 - mse: 0.0064 - val_loss: 0.0177 - val_mae: 0.0858 - val_mse: 0.0177\n",
      "Epoch 49/100\n",
      "\u001b[1m1462/1462\u001b[0m \u001b[32m━━━━━━━━━━━━━━━━━━━━\u001b[0m\u001b[37m\u001b[0m \u001b[1m15s\u001b[0m 10ms/step - loss: 0.0064 - mae: 0.0602 - mse: 0.0064 - val_loss: 0.0176 - val_mae: 0.0857 - val_mse: 0.0176\n",
      "Epoch 50/100\n",
      "\u001b[1m1462/1462\u001b[0m \u001b[32m━━━━━━━━━━━━━━━━━━━━\u001b[0m\u001b[37m\u001b[0m \u001b[1m20s\u001b[0m 13ms/step - loss: 0.0063 - mae: 0.0597 - mse: 0.0063 - val_loss: 0.0176 - val_mae: 0.0853 - val_mse: 0.0176\n",
      "Epoch 51/100\n",
      "\u001b[1m1462/1462\u001b[0m \u001b[32m━━━━━━━━━━━━━━━━━━━━\u001b[0m\u001b[37m\u001b[0m \u001b[1m19s\u001b[0m 13ms/step - loss: 0.0064 - mae: 0.0601 - mse: 0.0064 - val_loss: 0.0176 - val_mae: 0.0853 - val_mse: 0.0176\n",
      "Epoch 52/100\n",
      "\u001b[1m1462/1462\u001b[0m \u001b[32m━━━━━━━━━━━━━━━━━━━━\u001b[0m\u001b[37m\u001b[0m \u001b[1m17s\u001b[0m 12ms/step - loss: 0.0063 - mae: 0.0599 - mse: 0.0063 - val_loss: 0.0176 - val_mae: 0.0850 - val_mse: 0.0176\n",
      "Epoch 53/100\n",
      "\u001b[1m1462/1462\u001b[0m \u001b[32m━━━━━━━━━━━━━━━━━━━━\u001b[0m\u001b[37m\u001b[0m \u001b[1m9s\u001b[0m 6ms/step - loss: 0.0063 - mae: 0.0596 - mse: 0.0063 - val_loss: 0.0176 - val_mae: 0.0853 - val_mse: 0.0176\n",
      "Epoch 54/100\n",
      "\u001b[1m1462/1462\u001b[0m \u001b[32m━━━━━━━━━━━━━━━━━━━━\u001b[0m\u001b[37m\u001b[0m \u001b[1m10s\u001b[0m 7ms/step - loss: 0.0061 - mae: 0.0591 - mse: 0.0061 - val_loss: 0.0174 - val_mae: 0.0847 - val_mse: 0.0174\n",
      "Epoch 55/100\n",
      "\u001b[1m1462/1462\u001b[0m \u001b[32m━━━━━━━━━━━━━━━━━━━━\u001b[0m\u001b[37m\u001b[0m \u001b[1m11s\u001b[0m 7ms/step - loss: 0.0061 - mae: 0.0588 - mse: 0.0061 - val_loss: 0.0174 - val_mae: 0.0848 - val_mse: 0.0174\n",
      "Epoch 56/100\n",
      "\u001b[1m1462/1462\u001b[0m \u001b[32m━━━━━━━━━━━━━━━━━━━━\u001b[0m\u001b[37m\u001b[0m \u001b[1m12s\u001b[0m 8ms/step - loss: 0.0061 - mae: 0.0588 - mse: 0.0061 - val_loss: 0.0174 - val_mae: 0.0846 - val_mse: 0.0174\n",
      "Epoch 57/100\n",
      "\u001b[1m1462/1462\u001b[0m \u001b[32m━━━━━━━━━━━━━━━━━━━━\u001b[0m\u001b[37m\u001b[0m \u001b[1m18s\u001b[0m 13ms/step - loss: 0.0060 - mae: 0.0585 - mse: 0.0060 - val_loss: 0.0174 - val_mae: 0.0843 - val_mse: 0.0174\n",
      "Epoch 58/100\n",
      "\u001b[1m1462/1462\u001b[0m \u001b[32m━━━━━━━━━━━━━━━━━━━━\u001b[0m\u001b[37m\u001b[0m \u001b[1m10s\u001b[0m 7ms/step - loss: 0.0061 - mae: 0.0584 - mse: 0.0061 - val_loss: 0.0172 - val_mae: 0.0838 - val_mse: 0.0172\n",
      "Epoch 59/100\n",
      "\u001b[1m1462/1462\u001b[0m \u001b[32m━━━━━━━━━━━━━━━━━━━━\u001b[0m\u001b[37m\u001b[0m \u001b[1m16s\u001b[0m 11ms/step - loss: 0.0060 - mae: 0.0582 - mse: 0.0060 - val_loss: 0.0172 - val_mae: 0.0837 - val_mse: 0.0172\n",
      "Epoch 60/100\n",
      "\u001b[1m1462/1462\u001b[0m \u001b[32m━━━━━━━━━━━━━━━━━━━━\u001b[0m\u001b[37m\u001b[0m \u001b[1m13s\u001b[0m 9ms/step - loss: 0.0060 - mae: 0.0583 - mse: 0.0060 - val_loss: 0.0174 - val_mae: 0.0839 - val_mse: 0.0174\n",
      "Epoch 61/100\n",
      "\u001b[1m1462/1462\u001b[0m \u001b[32m━━━━━━━━━━━━━━━━━━━━\u001b[0m\u001b[37m\u001b[0m \u001b[1m10s\u001b[0m 7ms/step - loss: 0.0059 - mae: 0.0580 - mse: 0.0059 - val_loss: 0.0172 - val_mae: 0.0833 - val_mse: 0.0172\n",
      "Epoch 62/100\n",
      "\u001b[1m1462/1462\u001b[0m \u001b[32m━━━━━━━━━━━━━━━━━━━━\u001b[0m\u001b[37m\u001b[0m \u001b[1m11s\u001b[0m 7ms/step - loss: 0.0059 - mae: 0.0576 - mse: 0.0059 - val_loss: 0.0172 - val_mae: 0.0835 - val_mse: 0.0172\n",
      "Epoch 63/100\n",
      "\u001b[1m1462/1462\u001b[0m \u001b[32m━━━━━━━━━━━━━━━━━━━━\u001b[0m\u001b[37m\u001b[0m \u001b[1m11s\u001b[0m 8ms/step - loss: 0.0059 - mae: 0.0577 - mse: 0.0059 - val_loss: 0.0171 - val_mae: 0.0832 - val_mse: 0.0171\n",
      "Epoch 64/100\n",
      "\u001b[1m1462/1462\u001b[0m \u001b[32m━━━━━━━━━━━━━━━━━━━━\u001b[0m\u001b[37m\u001b[0m \u001b[1m15s\u001b[0m 11ms/step - loss: 0.0059 - mae: 0.0576 - mse: 0.0059 - val_loss: 0.0172 - val_mae: 0.0832 - val_mse: 0.0172\n",
      "Epoch 65/100\n",
      "\u001b[1m1462/1462\u001b[0m \u001b[32m━━━━━━━━━━━━━━━━━━━━\u001b[0m\u001b[37m\u001b[0m \u001b[1m13s\u001b[0m 9ms/step - loss: 0.0059 - mae: 0.0575 - mse: 0.0059 - val_loss: 0.0171 - val_mae: 0.0833 - val_mse: 0.0171\n",
      "Epoch 66/100\n",
      "\u001b[1m1462/1462\u001b[0m \u001b[32m━━━━━━━━━━━━━━━━━━━━\u001b[0m\u001b[37m\u001b[0m \u001b[1m12s\u001b[0m 8ms/step - loss: 0.0058 - mae: 0.0571 - mse: 0.0058 - val_loss: 0.0170 - val_mae: 0.0828 - val_mse: 0.0170\n",
      "Epoch 67/100\n",
      "\u001b[1m1462/1462\u001b[0m \u001b[32m━━━━━━━━━━━━━━━━━━━━\u001b[0m\u001b[37m\u001b[0m \u001b[1m20s\u001b[0m 8ms/step - loss: 0.0058 - mae: 0.0574 - mse: 0.0058 - val_loss: 0.0171 - val_mae: 0.0829 - val_mse: 0.0171\n",
      "Epoch 68/100\n",
      "\u001b[1m1462/1462\u001b[0m \u001b[32m━━━━━━━━━━━━━━━━━━━━\u001b[0m\u001b[37m\u001b[0m \u001b[1m14s\u001b[0m 9ms/step - loss: 0.0057 - mae: 0.0570 - mse: 0.0057 - val_loss: 0.0171 - val_mae: 0.0825 - val_mse: 0.0171\n",
      "Epoch 69/100\n",
      "\u001b[1m1462/1462\u001b[0m \u001b[32m━━━━━━━━━━━━━━━━━━━━\u001b[0m\u001b[37m\u001b[0m \u001b[1m11s\u001b[0m 7ms/step - loss: 0.0058 - mae: 0.0574 - mse: 0.0058 - val_loss: 0.0169 - val_mae: 0.0822 - val_mse: 0.0169\n",
      "Epoch 70/100\n",
      "\u001b[1m1462/1462\u001b[0m \u001b[32m━━━━━━━━━━━━━━━━━━━━\u001b[0m\u001b[37m\u001b[0m \u001b[1m11s\u001b[0m 7ms/step - loss: 0.0058 - mae: 0.0568 - mse: 0.0058 - val_loss: 0.0169 - val_mae: 0.0826 - val_mse: 0.0169\n",
      "Epoch 71/100\n",
      "\u001b[1m1462/1462\u001b[0m \u001b[32m━━━━━━━━━━━━━━━━━━━━\u001b[0m\u001b[37m\u001b[0m \u001b[1m11s\u001b[0m 7ms/step - loss: 0.0057 - mae: 0.0568 - mse: 0.0057 - val_loss: 0.0170 - val_mae: 0.0824 - val_mse: 0.0170\n",
      "Epoch 72/100\n",
      "\u001b[1m1462/1462\u001b[0m \u001b[32m━━━━━━━━━━━━━━━━━━━━\u001b[0m\u001b[37m\u001b[0m \u001b[1m13s\u001b[0m 9ms/step - loss: 0.0057 - mae: 0.0569 - mse: 0.0057 - val_loss: 0.0170 - val_mae: 0.0824 - val_mse: 0.0170\n",
      "Epoch 72: early stopping\n",
      "Restoring model weights from the end of the best epoch: 69.\n"
     ]
    }
   ],
   "source": [
    "# Initialize model\n",
    "recommender = MovieRecommender(processed_data['num_users'], processed_data['num_movies'])\n",
    "# Compile model\n",
    "recommender.compile_model(learning_rate=0.001)\n",
    "# Train model\n",
    "history = recommender.train(X_train=X_train, y_train=y_train, validation_split=0.2, batch_size=64, epochs=100, patience=3)"
   ]
  },
  {
   "cell_type": "code",
   "execution_count": 7,
   "metadata": {},
   "outputs": [
    {
     "name": "stdout",
     "output_type": "stream",
     "text": [
      "Test metrics: {'loss': 0.005815394222736359, 'compile_metrics': 0.04898960143327713}\n",
      "Predicted ratings: [[0.54572994]\n",
      " [0.9623438 ]\n",
      " [0.9214805 ]\n",
      " [0.81133443]\n",
      " [0.85805297]]\n"
     ]
    }
   ],
   "source": [
    "# Evaluate model\n",
    "brief_metrics = recommender.evaluate(X_train, y_train)\n",
    "print(\"Test metrics:\", brief_metrics)\n",
    "# Make predictions on test set\n",
    "predicted_ratings = recommender.predict(user_ids_test, movie_ids_test)\n",
    "print(\"Predicted ratings:\", predicted_ratings[:5])"
   ]
  },
  {
   "cell_type": "code",
   "execution_count": 10,
   "metadata": {},
   "outputs": [
    {
     "name": "stdout",
     "output_type": "stream",
     "text": [
      "Full metrics: {'rmse': 0.12806119118224119, 'mae': 0.08189337235500312, 'precision@k': 0.7886885245901639, 'recall@k': 0.6162817537335565}\n"
     ]
    }
   ],
   "source": [
    "# Create dataframe with actual and predicted ratings for test set to pass to calculate_metrics function\n",
    "df_predictions = pd.DataFrame({\n",
    "    'userId': user_ids_test,        \n",
    "    'movieId': movie_ids_test,      \n",
    "    'actual_rating': ratings_test,  \n",
    "    'predicted_rating': predicted_ratings.flatten()\n",
    "})\n",
    "full_metrics = calculate_metrics(df_predictions)\n",
    "print(\"Full metrics:\", full_metrics)"
   ]
  },
  {
   "cell_type": "code",
   "execution_count": null,
   "metadata": {},
   "outputs": [],
   "source": []
  }
 ],
 "metadata": {
  "kernelspec": {
   "display_name": "movie_rec",
   "language": "python",
   "name": "python3"
  },
  "language_info": {
   "codemirror_mode": {
    "name": "ipython",
    "version": 3
   },
   "file_extension": ".py",
   "mimetype": "text/x-python",
   "name": "python",
   "nbconvert_exporter": "python",
   "pygments_lexer": "ipython3",
   "version": "3.9.21"
  }
 },
 "nbformat": 4,
 "nbformat_minor": 2
}
