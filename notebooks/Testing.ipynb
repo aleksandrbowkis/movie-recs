{
 "cells": [
  {
   "cell_type": "code",
   "execution_count": 1,
   "id": "4578fc3a-4516-46fe-9457-3e33722653f1",
   "metadata": {},
   "outputs": [
    {
     "name": "stdout",
     "output_type": "stream",
     "text": [
      "5.12.0\n"
     ]
    }
   ],
   "source": [
    "import pymc as pm\n",
    "print(pm.__version__)\n",
    "import numpy as np\n",
    "import matplotlib.pyplot as plt"
   ]
  },
  {
   "cell_type": "code",
   "execution_count": 2,
   "id": "73f32caf-a0d0-48fb-9a07-5ae401f849aa",
   "metadata": {},
   "outputs": [
    {
     "name": "stderr",
     "output_type": "stream",
     "text": [
      "2025-01-05 22:13:56.055362: I tensorflow/core/platform/cpu_feature_guard.cc:210] This TensorFlow binary is optimized to use available CPU instructions in performance-critical operations.\n",
      "To enable the following instructions: AVX2 FMA, in other operations, rebuild TensorFlow with the appropriate compiler flags.\n"
     ]
    }
   ],
   "source": [
    "import pandas as pd\n",
    "import os\n",
    "import sklearn\n",
    "import tensorflow as tf"
   ]
  },
  {
   "cell_type": "code",
   "execution_count": 3,
   "id": "ae6cfd06-2848-4949-9864-0697eb757ab0",
   "metadata": {},
   "outputs": [
    {
     "name": "stdout",
     "output_type": "stream",
     "text": [
      "../data/ml-32m/\n"
     ]
    }
   ],
   "source": [
    "# Import data\n",
    "path_to_data = '../data/ml-32m/'\n",
    "print(path_to_data)\n",
    "ratings = pd.read_csv(os.path.join(path_to_data, 'ratings.csv'))\n",
    "movies = pd.read_csv(os.path.join(path_to_data, 'movies.csv'))"
   ]
  },
  {
   "cell_type": "code",
   "execution_count": 4,
   "id": "1cf91bd3-a88b-4e42-8265-333fb0437dc5",
   "metadata": {},
   "outputs": [
    {
     "name": "stdout",
     "output_type": "stream",
     "text": [
      "   userId  movieId  rating  timestamp\n",
      "0       1       17     4.0  944249077\n",
      "1       1       25     1.0  944250228\n",
      "2       1       29     2.0  943230976 \n",
      "\n",
      "   movieId                    title  \\\n",
      "0        1         Toy Story (1995)   \n",
      "1        2           Jumanji (1995)   \n",
      "2        3  Grumpier Old Men (1995)   \n",
      "\n",
      "                                        genres  \n",
      "0  Adventure|Animation|Children|Comedy|Fantasy  \n",
      "1                   Adventure|Children|Fantasy  \n",
      "2                               Comedy|Romance  \n"
     ]
    }
   ],
   "source": [
    "print(ratings.head(3), '\\n')\n",
    "print(movies.head(3))"
   ]
  },
  {
   "cell_type": "code",
   "execution_count": 5,
   "id": "07b2bdd2-06f2-4a91-83ae-a55555f95ba7",
   "metadata": {},
   "outputs": [
    {
     "name": "stdout",
     "output_type": "stream",
     "text": [
      "             userId       movieId        rating     timestamp\n",
      "count  3.200020e+07  3.200020e+07  3.200020e+07  3.200020e+07\n",
      "mean   1.002785e+05  2.931861e+04  3.540396e+00  1.275241e+09\n",
      "std    5.794905e+04  5.095816e+04  1.058986e+00  2.561630e+08\n",
      "min    1.000000e+00  1.000000e+00  5.000000e-01  7.896520e+08\n",
      "25%    5.005300e+04  1.233000e+03  3.000000e+00  1.051012e+09\n",
      "50%    1.002970e+05  3.452000e+03  3.500000e+00  1.272622e+09\n",
      "75%    1.504510e+05  4.419900e+04  4.000000e+00  1.503158e+09\n",
      "max    2.009480e+05  2.927570e+05  5.000000e+00  1.697164e+09\n"
     ]
    }
   ],
   "source": [
    "print(ratings.describe())"
   ]
  },
  {
   "cell_type": "code",
   "execution_count": 6,
   "id": "39c8dd54-7452-4f90-8ae7-89f83ab659e8",
   "metadata": {},
   "outputs": [
    {
     "name": "stdout",
     "output_type": "stream",
     "text": [
      "userId       0\n",
      "movieId      0\n",
      "rating       0\n",
      "timestamp    0\n",
      "dtype: int64\n",
      "movieId    0\n",
      "title      0\n",
      "genres     0\n",
      "dtype: int64\n"
     ]
    }
   ],
   "source": [
    "# Check for missing values\n",
    "print(ratings.isnull().sum())\n",
    "print(movies.isnull().sum())"
   ]
  },
  {
   "cell_type": "code",
   "execution_count": 7,
   "id": "dc4a8fda-51b6-4385-a193-f574b620428e",
   "metadata": {},
   "outputs": [],
   "source": [
    "# Normalise data\n",
    "from sklearn.preprocessing import MinMaxScaler\n",
    "scaler = MinMaxScaler()\n",
    "ratings['scaled_rating'] = scaler.fit_transform(ratings[['rating']])"
   ]
  },
  {
   "cell_type": "code",
   "execution_count": 8,
   "id": "4c2b0bd2-5e93-4c22-a9aa-fadf574e9f3c",
   "metadata": {},
   "outputs": [],
   "source": [
    "# Merge dataframes to make dataframe containing ratings and genres\n",
    "full_ratings = pd.merge(ratings, movies, on='movieId')"
   ]
  },
  {
   "cell_type": "code",
   "execution_count": 9,
   "id": "e4d1029e-3cc1-414b-bca6-bed9aa3ae7ba",
   "metadata": {},
   "outputs": [
    {
     "name": "stdout",
     "output_type": "stream",
     "text": [
      "User Preferences Matrix:\n",
      "   userId  movieId  rating  timestamp  scaled_rating  \\\n",
      "0       1       17     4.0  944249077       0.777778   \n",
      "1       1       25     1.0  944250228       0.111111   \n",
      "2       1       29     2.0  943230976       0.333333   \n",
      "\n",
      "                                               title  \\\n",
      "0                       Sense and Sensibility (1995)   \n",
      "1                           Leaving Las Vegas (1995)   \n",
      "2  City of Lost Children, The (Cité des enfants p...   \n",
      "\n",
      "                                   genres  \n",
      "0                           Drama|Romance  \n",
      "1                           Drama|Romance  \n",
      "2  Adventure|Drama|Fantasy|Mystery|Sci-Fi   \n",
      "\n"
     ]
    }
   ],
   "source": [
    "print(\"User Preferences Matrix:\")\n",
    "print(full_ratings.head(3), '\\n')"
   ]
  },
  {
   "cell_type": "code",
   "execution_count": 10,
   "id": "6cf93aae-cab5-42c4-abf7-3fb045b62541",
   "metadata": {},
   "outputs": [],
   "source": [
    "# Now group data by userID and genres, assign a mean rating for each (UserID, genre) pair then unpack these into a table\n",
    "# Unfilled genres are filled with 0 rating\n",
    "\n",
    "user_pref = full_ratings.groupby(['userId', 'genres']).rating.mean().unstack(fill_value=0)"
   ]
  },
  {
   "cell_type": "code",
   "execution_count": 11,
   "id": "e2bc828f-a467-4bfa-8a77-8211a75d7d69",
   "metadata": {},
   "outputs": [
    {
     "ename": "NameError",
     "evalue": "name 'user_preferences' is not defined",
     "output_type": "error",
     "traceback": [
      "\u001b[0;31m---------------------------------------------------------------------------\u001b[0m",
      "\u001b[0;31mNameError\u001b[0m                                 Traceback (most recent call last)",
      "Cell \u001b[0;32mIn[11], line 3\u001b[0m\n\u001b[1;32m      1\u001b[0m \u001b[38;5;66;03m# Now assume uniform prior for genres, use Dirichilet distribution as total prob sums to 1\u001b[39;00m\n\u001b[1;32m      2\u001b[0m \u001b[38;5;28;01mwith\u001b[39;00m pm\u001b[38;5;241m.\u001b[39mModel() \u001b[38;5;28;01mas\u001b[39;00m model:\n\u001b[0;32m----> 3\u001b[0m     user_genre_pref \u001b[38;5;241m=\u001b[39m pm\u001b[38;5;241m.\u001b[39mDirichlet(\u001b[38;5;124m'\u001b[39m\u001b[38;5;124muser_genre_pref\u001b[39m\u001b[38;5;124m'\u001b[39m, a\u001b[38;5;241m=\u001b[39mnp\u001b[38;5;241m.\u001b[39mones(\u001b[43muser_preferences\u001b[49m\u001b[38;5;241m.\u001b[39mshape[\u001b[38;5;241m1\u001b[39m]))\n",
      "\u001b[0;31mNameError\u001b[0m: name 'user_preferences' is not defined"
     ]
    }
   ],
   "source": [
    "# Now assume uniform prior for genres, use Dirichilet distribution as total prob sums to 1\n",
    "with pm.Model() as model:\n",
    "    user_genre_pref = pm.Dirichlet('user_genre_pref', a=np.ones(user_preferences.shape[1]))"
   ]
  },
  {
   "cell_type": "code",
   "execution_count": null,
   "id": "2820bf89-b5aa-4e26-9104-3d7ebcac34b2",
   "metadata": {},
   "outputs": [],
   "source": []
  }
 ],
 "metadata": {
  "kernelspec": {
   "display_name": "Python (movie_rec)",
   "language": "python",
   "name": "movie_rec"
  },
  "language_info": {
   "codemirror_mode": {
    "name": "ipython",
    "version": 3
   },
   "file_extension": ".py",
   "mimetype": "text/x-python",
   "name": "python",
   "nbconvert_exporter": "python",
   "pygments_lexer": "ipython3",
   "version": "3.9.21"
  }
 },
 "nbformat": 4,
 "nbformat_minor": 5
}
