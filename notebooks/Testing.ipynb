{
 "cells": [
  {
   "cell_type": "code",
   "execution_count": 50,
   "id": "73f32caf-a0d0-48fb-9a07-5ae401f849aa",
   "metadata": {},
   "outputs": [],
   "source": [
    "import pandas as pd\n",
    "import os\n",
    "import sklearn\n",
    "import pymc3 as pm"
   ]
  },
  {
   "cell_type": "code",
   "execution_count": 39,
   "id": "ae6cfd06-2848-4949-9864-0697eb757ab0",
   "metadata": {},
   "outputs": [
    {
     "name": "stdout",
     "output_type": "stream",
     "text": [
      "../data/ml-32m/\n"
     ]
    }
   ],
   "source": [
    "# Import data\n",
    "path_to_data = '../data/ml-32m/'\n",
    "print(path_to_data)\n",
    "ratings = pd.read_csv(os.path.join(path_to_data, 'ratings.csv'))\n",
    "movies = pd.read_csv(os.path.join(path_to_data, 'movies.csv'))"
   ]
  },
  {
   "cell_type": "code",
   "execution_count": 41,
   "id": "1cf91bd3-a88b-4e42-8265-333fb0437dc5",
   "metadata": {},
   "outputs": [
    {
     "name": "stdout",
     "output_type": "stream",
     "text": [
      "   userId  movieId  rating  timestamp\n",
      "0       1       17     4.0  944249077\n",
      "1       1       25     1.0  944250228\n",
      "2       1       29     2.0  943230976 \n",
      "\n",
      "   movieId                    title  \\\n",
      "0        1         Toy Story (1995)   \n",
      "1        2           Jumanji (1995)   \n",
      "2        3  Grumpier Old Men (1995)   \n",
      "\n",
      "                                        genres  \n",
      "0  Adventure|Animation|Children|Comedy|Fantasy  \n",
      "1                   Adventure|Children|Fantasy  \n",
      "2                               Comedy|Romance  \n"
     ]
    }
   ],
   "source": [
    "print(ratings.head(3), '\\n')\n",
    "print(movies.head(3))"
   ]
  },
  {
   "cell_type": "code",
   "execution_count": 43,
   "id": "07b2bdd2-06f2-4a91-83ae-a55555f95ba7",
   "metadata": {},
   "outputs": [
    {
     "name": "stdout",
     "output_type": "stream",
     "text": [
      "             userId       movieId        rating     timestamp\n",
      "count  3.200020e+07  3.200020e+07  3.200020e+07  3.200020e+07\n",
      "mean   1.002785e+05  2.931861e+04  3.540396e+00  1.275241e+09\n",
      "std    5.794905e+04  5.095816e+04  1.058986e+00  2.561630e+08\n",
      "min    1.000000e+00  1.000000e+00  5.000000e-01  7.896520e+08\n",
      "25%    5.005300e+04  1.233000e+03  3.000000e+00  1.051012e+09\n",
      "50%    1.002970e+05  3.452000e+03  3.500000e+00  1.272622e+09\n",
      "75%    1.504510e+05  4.419900e+04  4.000000e+00  1.503158e+09\n",
      "max    2.009480e+05  2.927570e+05  5.000000e+00  1.697164e+09\n"
     ]
    }
   ],
   "source": [
    "print(ratings.describe())"
   ]
  },
  {
   "cell_type": "code",
   "execution_count": 44,
   "id": "39c8dd54-7452-4f90-8ae7-89f83ab659e8",
   "metadata": {},
   "outputs": [
    {
     "name": "stdout",
     "output_type": "stream",
     "text": [
      "userId       0\n",
      "movieId      0\n",
      "rating       0\n",
      "timestamp    0\n",
      "dtype: int64\n",
      "movieId    0\n",
      "title      0\n",
      "genres     0\n",
      "dtype: int64\n"
     ]
    }
   ],
   "source": [
    "# Check for missing values\n",
    "print(ratings.isnull().sum())\n",
    "print(movies.isnull().sum())"
   ]
  },
  {
   "cell_type": "code",
   "execution_count": 36,
   "id": "dc4a8fda-51b6-4385-a193-f574b620428e",
   "metadata": {},
   "outputs": [],
   "source": [
    "# Normalise data\n",
    "from sklearn.preprocessing import MinMaxScaler\n",
    "scaler = MinMaxScaler()\n",
    "ratings['scaled_rating'] = scaler.fit_transform(ratings[['rating']])"
   ]
  },
  {
   "cell_type": "code",
   "execution_count": 46,
   "id": "4c2b0bd2-5e93-4c22-a9aa-fadf574e9f3c",
   "metadata": {},
   "outputs": [],
   "source": [
    "# Merge dataframes to make dataframe containing ratings and genres\n",
    "full_ratings = pd.merge(ratings, movies, on='movieId')"
   ]
  },
  {
   "cell_type": "code",
   "execution_count": 49,
   "id": "e4d1029e-3cc1-414b-bca6-bed9aa3ae7ba",
   "metadata": {},
   "outputs": [
    {
     "name": "stdout",
     "output_type": "stream",
     "text": [
      "    userId  movieId  rating   timestamp                         title  \\\n",
      "0        1       17     4.0   944249077  Sense and Sensibility (1995)   \n",
      "1        3       17     5.0  1084485217  Sense and Sensibility (1995)   \n",
      "2       15       17     4.5  1289858271  Sense and Sensibility (1995)   \n",
      "3       28       17     4.0   961513829  Sense and Sensibility (1995)   \n",
      "4       29       17     4.0   845056111  Sense and Sensibility (1995)   \n",
      "5       32       17     5.0   837622358  Sense and Sensibility (1995)   \n",
      "6       39       17     2.0   859534406  Sense and Sensibility (1995)   \n",
      "7       40       17     5.0   940027447  Sense and Sensibility (1995)   \n",
      "8       43       17     5.0   834322652  Sense and Sensibility (1995)   \n",
      "9       57       17     3.0   852581231  Sense and Sensibility (1995)   \n",
      "10      59       17     4.0  1030398472  Sense and Sensibility (1995)   \n",
      "11      62       17     4.0   916456163  Sense and Sensibility (1995)   \n",
      "12      78       17     5.0   901987955  Sense and Sensibility (1995)   \n",
      "13      83       17     5.0  1458856456  Sense and Sensibility (1995)   \n",
      "14      86       17     4.0   942353181  Sense and Sensibility (1995)   \n",
      "15      97       17     4.0  1171227687  Sense and Sensibility (1995)   \n",
      "16     109       17     4.5  1254983130  Sense and Sensibility (1995)   \n",
      "17     124       17     5.0  1047349132  Sense and Sensibility (1995)   \n",
      "18     128       17     3.5  1669609626  Sense and Sensibility (1995)   \n",
      "19     131       17     5.0  1242557663  Sense and Sensibility (1995)   \n",
      "20     142       17     4.0   844861962  Sense and Sensibility (1995)   \n",
      "21     143       17     3.0   849645637  Sense and Sensibility (1995)   \n",
      "22     158       17     4.0   992925879  Sense and Sensibility (1995)   \n",
      "23     161       17     4.0   847286913  Sense and Sensibility (1995)   \n",
      "24     165       17     3.0   850988643  Sense and Sensibility (1995)   \n",
      "25     179       17     4.0   854272331  Sense and Sensibility (1995)   \n",
      "26     188       17     2.5  1107494602  Sense and Sensibility (1995)   \n",
      "27     208       17     4.0   898770615  Sense and Sensibility (1995)   \n",
      "28     211       17     5.0   836046053  Sense and Sensibility (1995)   \n",
      "29     224       17     4.0  1078538231  Sense and Sensibility (1995)   \n",
      "30     226       17     3.0   849118251  Sense and Sensibility (1995)   \n",
      "31     249       17     5.0   852155678  Sense and Sensibility (1995)   \n",
      "32     269       17     4.0  1100987968  Sense and Sensibility (1995)   \n",
      "33     278       17     5.0   941723612  Sense and Sensibility (1995)   \n",
      "34     282       17     5.0  1157867668  Sense and Sensibility (1995)   \n",
      "35     283       17     2.0   996891621  Sense and Sensibility (1995)   \n",
      "36     296       17     2.5  1106784906  Sense and Sensibility (1995)   \n",
      "37     300       17     5.0   848684881  Sense and Sensibility (1995)   \n",
      "38     305       17     4.0   938965102  Sense and Sensibility (1995)   \n",
      "39     336       17     4.0  1210542990  Sense and Sensibility (1995)   \n",
      "40     338       17     5.0   945042658  Sense and Sensibility (1995)   \n",
      "41     345       17     4.5  1110335851  Sense and Sensibility (1995)   \n",
      "42     347       17     3.0   860079533  Sense and Sensibility (1995)   \n",
      "43     348       17     4.0  1315072060  Sense and Sensibility (1995)   \n",
      "44     354       17     4.0   980520710  Sense and Sensibility (1995)   \n",
      "45     358       17     4.0  1459717290  Sense and Sensibility (1995)   \n",
      "46     359       17     5.0   974767431  Sense and Sensibility (1995)   \n",
      "47     361       17     4.0   860147391  Sense and Sensibility (1995)   \n",
      "48     372       17     4.0   956709701  Sense and Sensibility (1995)   \n",
      "49     378       17     4.0   955077958  Sense and Sensibility (1995)   \n",
      "\n",
      "           genres  \n",
      "0   Drama|Romance  \n",
      "1   Drama|Romance  \n",
      "2   Drama|Romance  \n",
      "3   Drama|Romance  \n",
      "4   Drama|Romance  \n",
      "5   Drama|Romance  \n",
      "6   Drama|Romance  \n",
      "7   Drama|Romance  \n",
      "8   Drama|Romance  \n",
      "9   Drama|Romance  \n",
      "10  Drama|Romance  \n",
      "11  Drama|Romance  \n",
      "12  Drama|Romance  \n",
      "13  Drama|Romance  \n",
      "14  Drama|Romance  \n",
      "15  Drama|Romance  \n",
      "16  Drama|Romance  \n",
      "17  Drama|Romance  \n",
      "18  Drama|Romance  \n",
      "19  Drama|Romance  \n",
      "20  Drama|Romance  \n",
      "21  Drama|Romance  \n",
      "22  Drama|Romance  \n",
      "23  Drama|Romance  \n",
      "24  Drama|Romance  \n",
      "25  Drama|Romance  \n",
      "26  Drama|Romance  \n",
      "27  Drama|Romance  \n",
      "28  Drama|Romance  \n",
      "29  Drama|Romance  \n",
      "30  Drama|Romance  \n",
      "31  Drama|Romance  \n",
      "32  Drama|Romance  \n",
      "33  Drama|Romance  \n",
      "34  Drama|Romance  \n",
      "35  Drama|Romance  \n",
      "36  Drama|Romance  \n",
      "37  Drama|Romance  \n",
      "38  Drama|Romance  \n",
      "39  Drama|Romance  \n",
      "40  Drama|Romance  \n",
      "41  Drama|Romance  \n",
      "42  Drama|Romance  \n",
      "43  Drama|Romance  \n",
      "44  Drama|Romance  \n",
      "45  Drama|Romance  \n",
      "46  Drama|Romance  \n",
      "47  Drama|Romance  \n",
      "48  Drama|Romance  \n",
      "49  Drama|Romance  \n"
     ]
    }
   ],
   "source": []
  },
  {
   "cell_type": "code",
   "execution_count": null,
   "id": "6cf93aae-cab5-42c4-abf7-3fb045b62541",
   "metadata": {},
   "outputs": [],
   "source": []
  }
 ],
 "metadata": {
  "kernelspec": {
   "display_name": "Python 3 (ipykernel)",
   "language": "python",
   "name": "python3"
  },
  "language_info": {
   "codemirror_mode": {
    "name": "ipython",
    "version": 3
   },
   "file_extension": ".py",
   "mimetype": "text/x-python",
   "name": "python",
   "nbconvert_exporter": "python",
   "pygments_lexer": "ipython3",
   "version": "3.10.15"
  }
 },
 "nbformat": 4,
 "nbformat_minor": 5
}
